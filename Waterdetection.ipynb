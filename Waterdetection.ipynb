{
 "cells": [
  {
   "cell_type": "markdown",
   "metadata": {},
   "source": [
    "# *Water Detection*: example at Huallaga River (Meander),Peru.\n",
    "Water detection identifies the presence or absence of water in a given area. It is crucial for various applications in multiple sectors, including environmental monitoring, agriculture, urban planning and disaster management.\n",
    "Accurate water sensing allows us to assess water availability, monitor changes in water bodies, predict floods or droughts, and manage water resources effectively.\n",
    "The code is based on the compilation of satellite images (more than 30 years old) and determining areas of water, sand, and other elements. For this analysis, CoastSat's code is being used.\n",
    "\n",
    "Review research:\n",
    "Kilian Vos, Kristen D. Splinter, Mitchell D. Harley, Joshua A. Simmons, Ian L. Turner. CoastSat: A Google Earth Engine-enabled Python toolkit to extract shorelines from publicly available satellite imagery, Environmental Modeling & Software, Volume 122, 2019, 104528, ISSN 1364-8152, https://doi.org/10.1016/j.envsoft.2019.104528.\n",
    "\n",
    "The software application refers to a sandy beach, with various cases being validated. Future projects it is expected to implement this code initially focused on coasts and expand it to rivers.\n"
   ]
  },
  {
   "cell_type": "code",
   "execution_count": 1,
   "metadata": {},
   "outputs": [
    {
     "name": "stdout",
     "output_type": "stream",
     "text": [
      "Requirement already satisfied: earthengine-api in /Users/krishnapatil/anaconda3/envs/waterdetection/lib/python3.12/site-packages (0.1.393)\n",
      "Requirement already satisfied: google-cloud-storage in /Users/krishnapatil/anaconda3/envs/waterdetection/lib/python3.12/site-packages (from earthengine-api) (2.16.0)\n",
      "Requirement already satisfied: google-api-python-client>=1.12.1 in /Users/krishnapatil/anaconda3/envs/waterdetection/lib/python3.12/site-packages (from earthengine-api) (2.122.0)\n",
      "Requirement already satisfied: google-auth>=1.4.1 in /Users/krishnapatil/anaconda3/envs/waterdetection/lib/python3.12/site-packages (from earthengine-api) (2.28.2)\n",
      "Requirement already satisfied: google-auth-httplib2>=0.0.3 in /Users/krishnapatil/anaconda3/envs/waterdetection/lib/python3.12/site-packages (from earthengine-api) (0.2.0)\n",
      "Requirement already satisfied: httplib2<1dev,>=0.9.2 in /Users/krishnapatil/anaconda3/envs/waterdetection/lib/python3.12/site-packages (from earthengine-api) (0.22.0)\n",
      "Requirement already satisfied: requests in /Users/krishnapatil/anaconda3/envs/waterdetection/lib/python3.12/site-packages (from earthengine-api) (2.31.0)\n",
      "Requirement already satisfied: google-api-core!=2.0.*,!=2.1.*,!=2.2.*,!=2.3.0,<3.0.0.dev0,>=1.31.5 in /Users/krishnapatil/anaconda3/envs/waterdetection/lib/python3.12/site-packages (from google-api-python-client>=1.12.1->earthengine-api) (2.17.1)\n",
      "Requirement already satisfied: uritemplate<5,>=3.0.1 in /Users/krishnapatil/anaconda3/envs/waterdetection/lib/python3.12/site-packages (from google-api-python-client>=1.12.1->earthengine-api) (4.1.1)\n",
      "Requirement already satisfied: cachetools<6.0,>=2.0.0 in /Users/krishnapatil/anaconda3/envs/waterdetection/lib/python3.12/site-packages (from google-auth>=1.4.1->earthengine-api) (5.3.3)\n",
      "Requirement already satisfied: pyasn1-modules>=0.2.1 in /Users/krishnapatil/anaconda3/envs/waterdetection/lib/python3.12/site-packages (from google-auth>=1.4.1->earthengine-api) (0.3.0)\n",
      "Requirement already satisfied: rsa<5,>=3.1.4 in /Users/krishnapatil/anaconda3/envs/waterdetection/lib/python3.12/site-packages (from google-auth>=1.4.1->earthengine-api) (4.9)\n",
      "Requirement already satisfied: pyparsing!=3.0.0,!=3.0.1,!=3.0.2,!=3.0.3,<4,>=2.4.2 in /Users/krishnapatil/anaconda3/envs/waterdetection/lib/python3.12/site-packages (from httplib2<1dev,>=0.9.2->earthengine-api) (3.1.2)\n",
      "Requirement already satisfied: google-cloud-core<3.0dev,>=2.3.0 in /Users/krishnapatil/anaconda3/envs/waterdetection/lib/python3.12/site-packages (from google-cloud-storage->earthengine-api) (2.4.1)\n",
      "Requirement already satisfied: google-resumable-media>=2.6.0 in /Users/krishnapatil/anaconda3/envs/waterdetection/lib/python3.12/site-packages (from google-cloud-storage->earthengine-api) (2.7.0)\n",
      "Requirement already satisfied: google-crc32c<2.0dev,>=1.0 in /Users/krishnapatil/anaconda3/envs/waterdetection/lib/python3.12/site-packages (from google-cloud-storage->earthengine-api) (1.1.2)\n",
      "Requirement already satisfied: charset-normalizer<4,>=2 in /Users/krishnapatil/anaconda3/envs/waterdetection/lib/python3.12/site-packages (from requests->earthengine-api) (3.3.2)\n",
      "Requirement already satisfied: idna<4,>=2.5 in /Users/krishnapatil/anaconda3/envs/waterdetection/lib/python3.12/site-packages (from requests->earthengine-api) (3.6)\n",
      "Requirement already satisfied: urllib3<3,>=1.21.1 in /Users/krishnapatil/anaconda3/envs/waterdetection/lib/python3.12/site-packages (from requests->earthengine-api) (2.2.1)\n",
      "Requirement already satisfied: certifi>=2017.4.17 in /Users/krishnapatil/anaconda3/envs/waterdetection/lib/python3.12/site-packages (from requests->earthengine-api) (2024.2.2)\n",
      "Requirement already satisfied: googleapis-common-protos<2.0.dev0,>=1.56.2 in /Users/krishnapatil/anaconda3/envs/waterdetection/lib/python3.12/site-packages (from google-api-core!=2.0.*,!=2.1.*,!=2.2.*,!=2.3.0,<3.0.0.dev0,>=1.31.5->google-api-python-client>=1.12.1->earthengine-api) (1.63.0)\n",
      "Requirement already satisfied: protobuf!=3.20.0,!=3.20.1,!=4.21.0,!=4.21.1,!=4.21.2,!=4.21.3,!=4.21.4,!=4.21.5,<5.0.0.dev0,>=3.19.5 in /Users/krishnapatil/anaconda3/envs/waterdetection/lib/python3.12/site-packages (from google-api-core!=2.0.*,!=2.1.*,!=2.2.*,!=2.3.0,<3.0.0.dev0,>=1.31.5->google-api-python-client>=1.12.1->earthengine-api) (4.25.3)\n",
      "Requirement already satisfied: cffi>=1.0.0 in /Users/krishnapatil/anaconda3/envs/waterdetection/lib/python3.12/site-packages (from google-crc32c<2.0dev,>=1.0->google-cloud-storage->earthengine-api) (1.16.0)\n",
      "Requirement already satisfied: pyasn1<0.6.0,>=0.4.6 in /Users/krishnapatil/anaconda3/envs/waterdetection/lib/python3.12/site-packages (from pyasn1-modules>=0.2.1->google-auth>=1.4.1->earthengine-api) (0.5.1)\n",
      "Requirement already satisfied: pycparser in /Users/krishnapatil/anaconda3/envs/waterdetection/lib/python3.12/site-packages (from cffi>=1.0.0->google-crc32c<2.0dev,>=1.0->google-cloud-storage->earthengine-api) (2.21)\n"
     ]
    }
   ],
   "source": [
    "!pip install earthengine-api\n"
   ]
  },
  {
   "cell_type": "markdown",
   "metadata": {},
   "source": [
    "# Import Libraries"
   ]
  },
  {
   "cell_type": "code",
   "execution_count": 2,
   "metadata": {
    "tags": []
   },
   "outputs": [],
   "source": [
    "%load_ext autoreload\n",
    "%autoreload 2\n",
    "import os\n",
    "import numpy as np\n",
    "import pickle\n",
    "import warnings\n",
    "warnings.filterwarnings(\"ignore\")\n",
    "import matplotlib\n",
    "matplotlib.use('Qt5Agg')\n",
    "import matplotlib.pyplot as plt\n",
    "from matplotlib import gridspec\n",
    "plt.ion()\n",
    "import pandas as pd\n",
    "from datetime import datetime\n",
    "from waterdetection import SDS_download, SDS_preprocess, SDS_shoreline, SDS_tools"
   ]
  },
  {
   "cell_type": "markdown",
   "metadata": {},
   "source": [
    "# Retrieval of the images from GEE\n",
    "\n",
    "Define the region of interest (`polygon`), the date range (`dates`) and the satellite missions (`sat_list`) from which you wish to retrieve the satellite images. The images will be cropped on the Google Earth Engine server and only the region of interest will be downloaded as a .tif file. The files will stored in the directory defined in `filepath`. \n",
    "\n",
    "To create you ROI polygon you can either:\n",
    "- enter the coordinates manually as in the example below (making sure the first and last coordinate are the same);\n",
    "- go to [geojson.io](https://geojson.io), draw a polygon for your area of interest and export it as a GeoJSON and then read it with the function `SDS_tools.polygon_from_geojson()`.\n",
    "- go to Google MyMaps, draw a polygon and export it as kml and then read it with the function `SDS_tools.polygon_from_kml()`.\n",
    "- Make sure the area of your ROI is smaller than 100 km2 (if larger split it into smaller ROIs).\n"
   ]
  },
  {
   "cell_type": "code",
   "execution_count": 3,
   "metadata": {
    "tags": []
   },
   "outputs": [
    {
     "name": "stdout",
     "output_type": "stream",
     "text": [
      "Number of images available between 2023-06-01 and 2023-08-01:\n",
      "- In Landsat Tier 1 & Sentinel-2 Level-1C:\n",
      "     S2: 10 images\n",
      "  Total to download: 10 images\n"
     ]
    }
   ],
   "source": [
    "# region of interest (longitude, latitude)\n",
    "polygon = [[[-76.12260456749439, -5.8540712326457225],\n",
    "            [-76.12260456749439, -5.9130022516166605],\n",
    "            [-76.05911885559713, -5.9130022516166605],\n",
    "            [-76.05911885559713, -5.8540712326457225],\n",
    "            [-76.12260456749439,-5.8540712326457225]]]\n",
    "# it's recommended to convert the polygon to the smallest rectangle (sides parallel to coordinate axes)       \n",
    "polygon = SDS_tools.smallest_rectangle(polygon)\n",
    "# or load from .geojson\n",
    "# geojson_polygon = os.path.join(os.getcwd(), 'examples', 'NARRA_polygon.geojson')\n",
    "# polygon = SDS_tools.polygon_from_geojson(geojson_polygon)\n",
    "dates = ['2023-06-01', '2023-08-01']\n",
    "# satellite missions ['L5','L7','L8','L9','S2']\n",
    "sat_list = ['S2']\n",
    "# choose Landsat collection 'C01' or 'C02'\n",
    "collection = 'C02'\n",
    "# name of the site\n",
    "sitename = 'Huallaga'\n",
    "# directory where the data will be stored\n",
    "filepath = os.path.join(os.getcwd(), 'data')\n",
    "# put all the inputs into a dictionary\n",
    "inputs = {'polygon': polygon, 'dates': dates, 'sat_list': sat_list, 'sitename': sitename, 'filepath':filepath,\n",
    "         'landsat_collection': collection}\n",
    "# optionally, you can select your Sentinel-2 tile to avoid duplicates from multiple tiles\n",
    "# inputs['S2tile'] = '56HLH'\n",
    "# before downloading the images, check how many images are available for your inputs\n",
    "SDS_download.check_images_available(inputs);"
   ]
  },
  {
   "cell_type": "markdown",
   "metadata": {},
   "source": [
    "The function `SDS_download.retrieve_images(inputs)` retrives the satellite images from Google Earth Engine.\n",
    "\n",
    "By default, only Landsat Tier 1 Top-of-Atmosphere and Sentinel-2 Level-1C products are downloaded. \n",
    "\n",
    "In case you need to access Tier 2 images for qualitative analysis, you need to set `inputs['include_T2'] = True` before calling `retrieve_images`."
   ]
  },
  {
   "cell_type": "code",
   "execution_count": 4,
   "metadata": {
    "tags": []
   },
   "outputs": [
    {
     "name": "stdout",
     "output_type": "stream",
     "text": [
      "Number of images available between 2023-06-01 and 2023-08-01:\n",
      "- In Landsat Tier 1 & Sentinel-2 Level-1C:\n",
      "     S2: 10 images\n",
      "  Total to download: 10 images\n",
      "\n",
      "Downloading images:\n",
      "S2: 10 images\n",
      "100%\n",
      "Satellite images downloaded from GEE and save in /Users/krishnapatil/Desktop/Remote_sensing/waterdetection/data/Huallaga\n"
     ]
    }
   ],
   "source": [
    "# inputs['include_T2'] = True\n",
    "metadata = SDS_download.retrieve_images(inputs)"
   ]
  },
  {
   "cell_type": "markdown",
   "metadata": {},
   "source": [
    "**If you have already retrieved the images**, just load the metadata file by only running the section below"
   ]
  },
  {
   "cell_type": "code",
   "execution_count": 5,
   "metadata": {
    "tags": []
   },
   "outputs": [],
   "source": [
    "metadata = SDS_download.get_metadata(inputs)"
   ]
  },
  {
   "cell_type": "markdown",
   "metadata": {},
   "source": [
    "# River-line extraction\n",
    "The river zone is the interface between water and sand captured during image acquisition. Based on the code made by CoastSat and its coast detection algorithm with sub-pixel resolution, pre-processed satellite images can detect it. For this, the tool defines two central steps: (i) classification of images into four classes and (ii) edge segmentation with subpixel resolution.\n",
    "\n",
    "Recommendation:\n",
    "- see http://spatialreference.org/ to find the EPSG number corresponding to your local coordinate system.\n",
    "- Make sure that your are using **cartesian coordinates** (eastings and northings) and **not spherical coordinates** (lat,lon like WGS84).\n",
    "- It is important that you use a local projection otherwise you may introduce errors when intersecting the shorelines with the cross-shore transects.\n"
   ]
  },
  {
   "cell_type": "code",
   "execution_count": 6,
   "metadata": {
    "tags": []
   },
   "outputs": [],
   "source": [
    "settings = {\n",
    "    # general parameters:\n",
    "    'cloud_thresh': 0.1,        # threshold on maximum cloud cover\n",
    "    'dist_clouds': 300,         # distance around clouds where shoreline can't be mapped\n",
    "    'output_epsg': 32718,       # epsg code of spatial reference system desired for the output\n",
    "    # quality control:\n",
    "    'check_detection': True,    # if True, shows each shoreline detection to the user for validation\n",
    "    'adjust_detection': False,  # if True, allows user to adjust the postion of each shoreline by changing the threhold\n",
    "    'save_figure': True,        # if True, saves a figure showing the mapped shoreline for each image\n",
    "    # [ONLY FOR ADVANCED USERS] shoreline detection parameters:\n",
    "    'min_beach_area': 1000,     # minimum area (in metres^2) for an object to be labelled as a beach\n",
    "    'min_length_sl': 500,       # minimum length (in metres) of shoreline perimeter to be valid\n",
    "    'cloud_mask_issue': False,  # switch this parameter to True if sand pixels are masked (in black) on many images  \n",
    "    'sand_color': 'default',    # 'default', 'latest', 'dark' (for grey/black sand beaches) or 'bright' (for white sand beaches)\n",
    "    'pan_off': False,           # True to switch pansharpening off for Landsat 7/8/9 imagery\n",
    "    's2cloudless_prob': 60,     # probability threshold to identify cloudy pixels in the s2cloudless mask\n",
    "    \n",
    "    # add the inputs defined previously\n",
    "    'inputs': inputs,\n",
    "}"
   ]
  },
  {
   "cell_type": "markdown",
   "metadata": {},
   "source": [
    "### [OPTIONAL] Create timelapse animation of RGB images  \n",
    "Before mapping River-lines, the users can generate true color images for their ROI and save them as .jpg for visualisation. There is also code to make an .mp4 animation. The pre-processed .jpg images are cloud masked and pansharpened/down-sampled and are saved under *./data/sitename/jpg_files/preprocessed*. "
   ]
  },
  {
   "cell_type": "code",
   "execution_count": 7,
   "metadata": {
    "tags": []
   },
   "outputs": [
    {
     "name": "stdout",
     "output_type": "stream",
     "text": [
      "Saving images as jpg:\n",
      "S2: 10 images\n",
      "100%\n",
      "Satellite images saved as .jpg in /Users/krishnapatil/Desktop/Remote_sensing/waterdetection/data/Huallaga/jpg_files/preprocessed\n"
     ]
    }
   ],
   "source": [
    "SDS_preprocess.save_jpg(metadata, settings, use_matplotlib=True)"
   ]
  },
  {
   "cell_type": "code",
   "execution_count": 8,
   "metadata": {
    "tags": []
   },
   "outputs": [
    {
     "name": "stderr",
     "output_type": "stream",
     "text": [
      "IMAGEIO FFMPEG_WRITER WARNING: input image is not divisible by macro_block_size=16, resizing from (2700, 1350) to (2704, 1360) to ensure video compatibility with most codecs and players. To prevent resizing, make your input image divisible by the macro_block_size or set the macro_block_size to 1 (risking incompatibility).\n",
      "[rawvideo @ 0x13f008c00] Stream #0: not enough frames to estimate rate; consider increasing probesize\n"
     ]
    },
    {
     "name": "stdout",
     "output_type": "stream",
     "text": [
      "Animation has been generated (using 0 frames per second) and saved at /Users/krishnapatil/Desktop/Remote_sensing/waterdetection/data/Huallaga/Huallaga_animation_RGB.mp4\n"
     ]
    }
   ],
   "source": [
    "# create MP4 timelapse animation\n",
    "fn_animation = os.path.join(inputs['filepath'],inputs['sitename'], '%s_animation_RGB.mp4'%inputs['sitename'])\n",
    "fp_images = os.path.join(inputs['filepath'], inputs['sitename'], 'jpg_files', 'preprocessed')\n",
    "fps = 0.5 # frames per second in animation\n",
    "SDS_tools.make_animation_mp4(fp_images, fps, fn_animation)"
   ]
  },
  {
   "cell_type": "markdown",
   "metadata": {},
   "source": [
    "### Digitize a reference River-line [HIGHLY RECOMMENDED]\n",
    "Creates a reference River-line which helps to identify outliers and false detections. "
   ]
  },
  {
   "cell_type": "code",
   "execution_count": 9,
   "metadata": {
    "tags": []
   },
   "outputs": [
    {
     "name": "stdout",
     "output_type": "stream",
     "text": [
      "Reference shoreline has been saved in /Users/krishnapatil/Desktop/Remote_sensing/waterdetection/data/Huallaga\n"
     ]
    }
   ],
   "source": [
    "%matplotlib qt\n",
    "settings['reference_shoreline'] = SDS_preprocess.get_reference_sl(metadata, settings)\n",
    "settings['max_dist_ref'] = 100 # max distance (in meters) allowed from the reference River-line"
   ]
  },
  {
   "cell_type": "markdown",
   "metadata": {},
   "source": [
    "### Batch River-line detection\n",
    "Extracts the 2D lines from the images in the spatial reference system specified by the user."
   ]
  },
  {
   "cell_type": "code",
   "execution_count": 10,
   "metadata": {
    "scrolled": true,
    "tags": []
   },
   "outputs": [
    {
     "name": "stdout",
     "output_type": "stream",
     "text": [
      "Mapping shorelines:\n",
      "S2:   100%\n"
     ]
    }
   ],
   "source": [
    "%matplotlib qt\n",
    "output = SDS_shoreline.extract_shorelines(metadata, settings)"
   ]
  },
  {
   "cell_type": "markdown",
   "metadata": {},
   "source": [
    "Then remove duplicates and images with inaccurate georeferencing (threhsold at 10m)"
   ]
  },
  {
   "cell_type": "code",
   "execution_count": 11,
   "metadata": {
    "tags": []
   },
   "outputs": [
    {
     "name": "stdout",
     "output_type": "stream",
     "text": [
      "0 duplicates\n",
      "0 bad georef\n"
     ]
    }
   ],
   "source": [
    "output = SDS_tools.remove_duplicates(output) # removes duplicates (images taken on the same date by the same satellite)\n",
    "output = SDS_tools.remove_inaccurate_georef(output, 10) # remove inaccurate georeferencing (set threshold to 10 m)"
   ]
  },
  {
   "cell_type": "markdown",
   "metadata": {},
   "source": [
    "For use in GIS applications, you can save the mapped shorelines as a GEOJSON layer which can be easily imported into QGIS for example. You can choose to save the shorelines as a collection of lines or points (sometimes the lines are crossing over so better to use points)."
   ]
  },
  {
   "cell_type": "code",
   "execution_count": 12,
   "metadata": {
    "tags": []
   },
   "outputs": [],
   "source": [
    "from pyproj import CRS\n",
    "geomtype = 'points' # choose 'points' or 'lines' for the layer geometry\n",
    "gdf = SDS_tools.output_to_gdf(output, geomtype)\n",
    "if gdf is None:\n",
    "    raise Exception(\"output does not contain any mapped shorelines\")\n",
    "gdf.crs = CRS(settings['output_epsg']) # set layer projection\n",
    "# save GEOJSON layer to file\n",
    "gdf.to_file(os.path.join(inputs['filepath'], inputs['sitename'], '%s_output_%s.geojson'%(sitename,geomtype)),\n",
    "                                driver='GeoJSON', encoding='utf-8')"
   ]
  },
  {
   "cell_type": "markdown",
   "metadata": {},
   "source": [
    "Again, we can create a timelapse animation showing the movement of the River-line:"
   ]
  },
  {
   "cell_type": "code",
   "execution_count": 13,
   "metadata": {
    "tags": []
   },
   "outputs": [
    {
     "name": "stderr",
     "output_type": "stream",
     "text": [
      "IMAGEIO FFMPEG_WRITER WARNING: input image is not divisible by macro_block_size=16, resizing from (2205, 1197) to (2208, 1200) to ensure video compatibility with most codecs and players. To prevent resizing, make your input image divisible by the macro_block_size or set the macro_block_size to 1 (risking incompatibility).\n",
      "[rawvideo @ 0x14a809200] Stream #0: not enough frames to estimate rate; consider increasing probesize\n"
     ]
    },
    {
     "name": "stdout",
     "output_type": "stream",
     "text": [
      "Animation has been generated (using 0 frames per second) and saved at /Users/krishnapatil/Desktop/Remote_sensing/waterdetection/data/Huallaga/Huallaga_animation_shorelines.mp4\n"
     ]
    }
   ],
   "source": [
    "# create MP4 timelapse animation\n",
    "fn_animation = os.path.join(inputs['filepath'],inputs['sitename'], '%s_animation_shorelines.mp4'%inputs['sitename'])\n",
    "fp_images = os.path.join(inputs['filepath'], inputs['sitename'], 'jpg_files', 'detection')\n",
    "fps = 0.5 # frames per second in animation\n",
    "SDS_tools.make_animation_mp4(fp_images, fps, fn_animation)"
   ]
  },
  {
   "cell_type": "markdown",
   "metadata": {},
   "source": [
    "Simple plot of the mapped River-lines. The coordinates are stored in the output dictionary together with the exact dates in UTC time, the georeferencing accuracy and the cloud cover."
   ]
  },
  {
   "cell_type": "code",
   "execution_count": 14,
   "metadata": {
    "tags": []
   },
   "outputs": [
    {
     "data": {
      "image/png": "[encoded data removed]",
      "text/plain": [
       "<Figure size 1500x800 with 1 Axes>"
      ]
     },
     "metadata": {},
     "output_type": "display_data"
    }
   ],
   "source": [
    "%matplotlib inline\n",
    "fig = plt.figure(figsize=[15,8])\n",
    "plt.axis('equal')\n",
    "plt.xlabel('Eastings')\n",
    "plt.ylabel('Northings')\n",
    "plt.grid(linestyle=':', color='0.5')\n",
    "for i in range(len(output['shorelines'])):\n",
    "    sl = output['shorelines'][i]\n",
    "    date = output['dates'][i]\n",
    "    plt.plot(sl[:,0], sl[:,1], '.', label=date.strftime('%d-%m-%Y'))\n",
    "plt.legend();"
   ]
  },
  {
   "cell_type": "markdown",
   "metadata": {},
   "source": [
    "Exporting riverline data at various time intervals into shapefiles"
   ]
  },
  {
   "cell_type": "code",
   "execution_count": 15,
   "metadata": {},
   "outputs": [],
   "source": [
    "import geopandas as gpd\n",
    "from shapely.geometry import LineString\n",
    "\n",
    "# Convert shorelines data to LineString geometries\n",
    "geometries = [LineString(sl) for sl in output['shorelines']]\n",
    "dates_str = [date.strftime('%Y-%m-%d') for date in output['dates']]  # Convert dates to strings\n",
    "\n",
    "# Create a GeoDataFrame\n",
    "gdf = gpd.GeoDataFrame({'date': dates_str}, geometry=geometries)\n",
    "\n",
    "# Save the GeoDataFrame to a shapefile\n",
    "gdf.to_file(\"shorelines.shp\")"
   ]
  },
  {
   "cell_type": "code",
   "execution_count": null,
   "metadata": {},
   "outputs": [],
   "source": []
  }
 ],
 "metadata": {
  "kernelspec": {
   "display_name": "Python 3 (ipykernel)",
   "language": "python",
   "name": "python3"
  },
  "language_info": {
   "codemirror_mode": {
    "name": "ipython",
    "version": 3
   },
   "file_extension": ".py",
   "mimetype": "text/x-python",
   "name": "python",
   "nbconvert_exporter": "python",
   "pygments_lexer": "ipython3",
   "version": "3.12.2"
  },
  "toc": {
   "base_numbering": 1,
   "nav_menu": {},
   "number_sections": true,
   "sideBar": true,
   "skip_h1_title": false,
   "title_cell": "Table of Contents",
   "title_sidebar": "Contents",
   "toc_cell": false,
   "toc_position": {},
   "toc_section_display": true,
   "toc_window_display": false
  },
  "varInspector": {
   "cols": {
    "lenName": 16,
    "lenType": 16,
    "lenVar": 40
   },
   "kernels_config": {
    "python": {
     "delete_cmd_postfix": "",
     "delete_cmd_prefix": "del ",
     "library": "var_list.py",
     "varRefreshCmd": "print(var_dic_list())"
    },
    "r": {
     "delete_cmd_postfix": ") ",
     "delete_cmd_prefix": "rm(",
     "library": "var_list.r",
     "varRefreshCmd": "cat(var_dic_list()) "
    }
   },
   "types_to_exclude": [
    "module",
    "function",
    "builtin_function_or_method",
    "instance",
    "_Feature"
   ],
   "window_display": false
  }
 },
 "nbformat": 4,
 "nbformat_minor": 4
}
