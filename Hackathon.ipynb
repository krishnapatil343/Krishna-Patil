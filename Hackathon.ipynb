{
  "cells": [
    {
      "cell_type": "markdown",
      "metadata": {
        "id": "view-in-github",
        "colab_type": "text"
      },
      "source": [
        "<a href=\"https://colab.research.google.com/github/krishnapatil343/Krishna-Patil/blob/main/Hackathon.ipynb\" target=\"_parent\"><img src=\"https://colab.research.google.com/assets/colab-badge.svg\" alt=\"Open In Colab\"/></a>"
      ]
    },
    {
      "cell_type": "markdown",
      "id": "85c45cf4-0d3d-4c75-8455-54775b83e978",
      "metadata": {
        "id": "85c45cf4-0d3d-4c75-8455-54775b83e978"
      },
      "source": [
        "## EO Summer School (Hackathon) Submitted by Howard Van Meer and Krishna Arun Patil"
      ]
    },
    {
      "cell_type": "markdown",
      "id": "5a0f7a02-7344-4305-96cc-426214f0ead2",
      "metadata": {
        "id": "5a0f7a02-7344-4305-96cc-426214f0ead2"
      },
      "source": [
        "## Global precipitation data fusion at 10 km\n",
        "Spacetime modelling of monthly precipitation through multi-source data fusion"
      ]
    },
    {
      "cell_type": "markdown",
      "id": "bdb697b3-17c0-49cc-9ec6-9f4e617bb41d",
      "metadata": {
        "id": "bdb697b3-17c0-49cc-9ec6-9f4e617bb41d"
      },
      "source": [
        "## Overview\n",
        "This hackathon focuses on developing a fused global precipitation product at 10 km spatial resolution for the period 2000–2016. Participants will integrate three complementary monthly precipitation datasets, ERA5 (10 km), CHELSA (1 km), and IMERG (total accumulation, liquid accumulation, liquid rate at 10 km), to generate robust estimates of mean monthly precipitation. The training framework will leverage the GSOD station network (~15,000 stations), incorporating predictors such as ERA5, CHELSA, IMERG components, and auxiliary variables (minimum/maximum geometric temperature).\n",
        "\n",
        "Goal: Develop a spacetime machine-learning model that fuses global datasets to predict monthly precipitation (2000–2016), validated against station time series using coefficient of determination (R²) in log-scale (log(1 + PRCP))."
      ]
    },
    {
      "cell_type": "markdown",
      "id": "36d5c7f2-5739-4bb7-ba65-29e51aaa0bc7",
      "metadata": {
        "id": "36d5c7f2-5739-4bb7-ba65-29e51aaa0bc7"
      },
      "source": [
        "## Dataset Description\n",
        "The Global Surface Summary of the Day (GSOD) provides long-term, quality-controlled daily weather observations from thousands of meteorological stations worldwide. For this hackathon, we use GSOD precipitation stations (~15,000 globally) as the ground-truth reference to train and validate precipitation data fusion models. Here is the spatial distribution of the GSOD precipitation stations:"
      ]
    },
    {
      "cell_type": "markdown",
      "id": "038ae06c-3547-46f5-868d-8cdb8fd45da9",
      "metadata": {
        "id": "038ae06c-3547-46f5-868d-8cdb8fd45da9"
      },
      "source": [
        "## Goal\n",
        "Your task is to build ML models that predict global monthly precipitation at 10 km resolution, capturing both spatial heterogeneity and temporal dynamics. The challenge is not only to maximize predictive accuracy, but also to advance data fusion methodologies that leverage the strengths of reanalysis, satellite, and station data in a unified framework."
      ]
    },
    {
      "cell_type": "code",
      "execution_count": null,
      "id": "c60e08d8-77cb-4e4b-9174-c1a9cd72eb38",
      "metadata": {
        "id": "c60e08d8-77cb-4e4b-9174-c1a9cd72eb38",
        "outputId": "7ece171f-4350-4ea0-a136-9da573adf0b1"
      },
      "outputs": [
        {
          "name": "stdout",
          "output_type": "stream",
          "text": [
            "Using: sklearn\n"
          ]
        }
      ],
      "source": [
        "# Try LightGBM (fast), else XGBoost, else sklearn GradientBoosting\n",
        "ModelLib = None\n",
        "try:\n",
        "    import lightgbm as lgb\n",
        "    ModelLib = \"lightgbm\"\n",
        "except Exception:\n",
        "    try:\n",
        "        import xgboost as xgb\n",
        "        ModelLib = \"xgboost\"\n",
        "    except Exception:\n",
        "        from sklearn.ensemble import GradientBoostingRegressor\n",
        "        ModelLib = \"sklearn\"\n",
        "\n",
        "from sklearn.model_selection import GroupKFold\n",
        "from sklearn.impute import SimpleImputer\n",
        "from sklearn.metrics import r2_score\n",
        "print(\"Using:\", ModelLib)\n"
      ]
    },
    {
      "cell_type": "code",
      "execution_count": null,
      "id": "f97c5487-b876-4225-b8f5-c24d26b1dfd0",
      "metadata": {
        "id": "f97c5487-b876-4225-b8f5-c24d26b1dfd0",
        "outputId": "b090907a-ce1d-45ad-82a7-7224f3979f77"
      },
      "outputs": [
        {
          "name": "stdout",
          "output_type": "stream",
          "text": [
            "OK: found train/test files.\n"
          ]
        }
      ],
      "source": [
        "# === EDIT THESE ===\n",
        "TRAIN_PATH = \"/Users/krishnapatil/Desktop/Hackathon/train.csv\"\n",
        "TEST_PATH  = \"/Users/krishnapatil/Desktop/Hackathon/test.csv\"\n",
        "\n",
        "# ================ NO EDITS BELOW ================\n",
        "import sys, os, math, numpy as np, pandas as pd\n",
        "\n",
        "for p in (TRAIN_PATH, TEST_PATH):\n",
        "    if not os.path.exists(p):\n",
        "        raise FileNotFoundError(f\"Not found: {p}\")\n",
        "\n",
        "# Optional: quiet warnings\n",
        "import warnings; warnings.filterwarnings(\"ignore\")\n",
        "print(\"OK: found train/test files.\")"
      ]
    },
    {
      "cell_type": "code",
      "execution_count": null,
      "id": "6ca26902-7eaf-4024-bd46-d7a3598a8dcb",
      "metadata": {
        "id": "6ca26902-7eaf-4024-bd46-d7a3598a8dcb",
        "outputId": "3cb0429e-59e5-4b89-97c1-6f6d9f570261"
      },
      "outputs": [
        {
          "name": "stdout",
          "output_type": "stream",
          "text": [
            "Rows: 1234839 | id_col: HACKATHON_ID | target: log space\n"
          ]
        },
        {
          "data": {
            "text/html": [
              "<div>\n",
              "<style scoped>\n",
              "    .dataframe tbody tr th:only-of-type {\n",
              "        vertical-align: middle;\n",
              "    }\n",
              "\n",
              "    .dataframe tbody tr th {\n",
              "        vertical-align: top;\n",
              "    }\n",
              "\n",
              "    .dataframe thead th {\n",
              "        text-align: right;\n",
              "    }\n",
              "</style>\n",
              "<table border=\"1\" class=\"dataframe\">\n",
              "  <thead>\n",
              "    <tr style=\"text-align: right;\">\n",
              "      <th></th>\n",
              "      <th>HACKATHON_ID</th>\n",
              "      <th>DATE</th>\n",
              "      <th>TMIN_GEOM</th>\n",
              "      <th>TMAX_GEOM</th>\n",
              "      <th>PRCP</th>\n",
              "      <th>PRCP_CHELSA</th>\n",
              "      <th>PRCP_ERA5</th>\n",
              "      <th>PRCP_TOTAL_IMERG</th>\n",
              "      <th>PRCP_LIQUID_IMERG</th>\n",
              "      <th>PRCP_ICE_IMERG</th>\n",
              "    </tr>\n",
              "  </thead>\n",
              "  <tbody>\n",
              "    <tr>\n",
              "      <th>0</th>\n",
              "      <td>8673f65a29bb_2000_01</td>\n",
              "      <td>2000-01-15</td>\n",
              "      <td>-21.682224</td>\n",
              "      <td>-16.939863</td>\n",
              "      <td>1.854200</td>\n",
              "      <td>7417.0</td>\n",
              "      <td>0.002035</td>\n",
              "      <td>13.0</td>\n",
              "      <td>1.0</td>\n",
              "      <td>12.0</td>\n",
              "    </tr>\n",
              "    <tr>\n",
              "      <th>1</th>\n",
              "      <td>8673f65a29bb_2000_02</td>\n",
              "      <td>2000-02-15</td>\n",
              "      <td>-20.011129</td>\n",
              "      <td>-15.299306</td>\n",
              "      <td>2.249714</td>\n",
              "      <td>9033.0</td>\n",
              "      <td>0.002736</td>\n",
              "      <td>23.0</td>\n",
              "      <td>2.0</td>\n",
              "      <td>21.0</td>\n",
              "    </tr>\n",
              "    <tr>\n",
              "      <th>2</th>\n",
              "      <td>8673f65a29bb_2000_03</td>\n",
              "      <td>2000-03-15</td>\n",
              "      <td>-15.038525</td>\n",
              "      <td>-10.417571</td>\n",
              "      <td>3.031067</td>\n",
              "      <td>14646.0</td>\n",
              "      <td>0.003942</td>\n",
              "      <td>64.0</td>\n",
              "      <td>3.0</td>\n",
              "      <td>61.0</td>\n",
              "    </tr>\n",
              "  </tbody>\n",
              "</table>\n",
              "</div>"
            ],
            "text/plain": [
              "           HACKATHON_ID        DATE  TMIN_GEOM  TMAX_GEOM      PRCP  \\\n",
              "0  8673f65a29bb_2000_01  2000-01-15 -21.682224 -16.939863  1.854200   \n",
              "1  8673f65a29bb_2000_02  2000-02-15 -20.011129 -15.299306  2.249714   \n",
              "2  8673f65a29bb_2000_03  2000-03-15 -15.038525 -10.417571  3.031067   \n",
              "\n",
              "   PRCP_CHELSA  PRCP_ERA5  PRCP_TOTAL_IMERG  PRCP_LIQUID_IMERG  PRCP_ICE_IMERG  \n",
              "0       7417.0   0.002035              13.0                1.0            12.0  \n",
              "1       9033.0   0.002736              23.0                2.0            21.0  \n",
              "2      14646.0   0.003942              64.0                3.0            61.0  "
            ]
          },
          "execution_count": 3,
          "metadata": {},
          "output_type": "execute_result"
        }
      ],
      "source": [
        "train_df = pd.read_csv(TRAIN_PATH)\n",
        "test_df  = pd.read_csv(TEST_PATH)\n",
        "\n",
        "# Try to find an ID column (used for grouping + submission)\n",
        "ID_CANDIDATES = [\"HACKATHON_ID\", \"STATION_ID\", \"station_id\", \"id\"]\n",
        "id_col = next((c for c in ID_CANDIDATES if c in train_df.columns), None)\n",
        "if id_col is None:\n",
        "    guess = [c for c in train_df.columns if \"id\" in c.lower() or \"station\" in c.lower()]\n",
        "    id_col = guess[0] if guess else train_df.columns[0]\n",
        "\n",
        "# Target: prefer PRCP_LOG, else compute log1p(PRCP)\n",
        "if \"PRCP_LOG\" in train_df.columns:\n",
        "    y_log = train_df[\"PRCP_LOG\"].astype(float)\n",
        "elif \"PRCP\" in train_df.columns:\n",
        "    y_log = np.log1p(train_df[\"PRCP\"].astype(float))\n",
        "else:\n",
        "    raise ValueError(\"Expected PRCP_LOG or PRCP in train.csv\")\n",
        "\n",
        "print(\"Rows:\", len(train_df), \"| id_col:\", id_col, \"| target: log space\")\n",
        "train_df.head(3)\n"
      ]
    },
    {
      "cell_type": "code",
      "execution_count": null,
      "id": "ef28d121-264e-4c71-927b-3dc1692abbfc",
      "metadata": {
        "scrolled": true,
        "id": "ef28d121-264e-4c71-927b-3dc1692abbfc",
        "outputId": "b51304a7-21ea-4d46-909d-2d95ab4ceae0"
      },
      "outputs": [
        {
          "name": "stdout",
          "output_type": "stream",
          "text": [
            "Using features: ['PRCP_CHELSA', 'PRCP_ERA5', 'PRCP_TOTAL_IMERG', 'PRCP_CHELSA_log1p', 'PRCP_ERA5_log1p', 'PRCP_TOTAL_IMERG_log1p', 'era5_over_chelsa', 'imerg_over_chelsa']\n"
          ]
        }
      ],
      "source": [
        "# Base predictors commonly present in this hackathon\n",
        "base_feats = [c for c in [\n",
        "    \"PRCP_CHELSA\",\"PRCP_ERA5\",\"PRCP_TOTAL_IMERG\",\n",
        "    \"PRCP_LIQ_IMERG\",\"PRCP_LIQRATE_IMERG\",  # if you have them\n",
        "    \"temp_min\",\"temp_max\",\"lat\",\"lon\",\"month\",\"year\"\n",
        "] if c in train_df.columns]\n",
        "\n",
        "if len(base_feats) == 0:\n",
        "    # Fallback: all numeric predictors except target and id\n",
        "    exclude = {\"PRCP\",\"PRCP_LOG\", id_col}\n",
        "    base_feats = [c for c in train_df.columns\n",
        "                  if c not in exclude and np.issubdtype(train_df[c].dtype, np.number)]\n",
        "\n",
        "# Add a few cheap, effective fusion features\n",
        "def add_fusion_features(df):\n",
        "    out = df.copy()\n",
        "    for c in [\"PRCP_CHELSA\",\"PRCP_ERA5\",\"PRCP_TOTAL_IMERG\"]:\n",
        "        if c in out.columns:\n",
        "            out[c+\"_log1p\"] = np.log1p(out[c].clip(lower=0))\n",
        "    if set([\"PRCP_ERA5\",\"PRCP_CHELSA\"]).issubset(out.columns):\n",
        "        out[\"era5_over_chelsa\"]  = (out[\"PRCP_ERA5\"]+1e-6)/(out[\"PRCP_CHELSA\"]+1e-6)\n",
        "    if set([\"PRCP_TOTAL_IMERG\",\"PRCP_CHELSA\"]).issubset(out.columns):\n",
        "        out[\"imerg_over_chelsa\"] = (out[\"PRCP_TOTAL_IMERG\"]+1e-6)/(out[\"PRCP_CHELSA\"]+1e-6)\n",
        "    return out\n",
        "\n",
        "trainX = add_fusion_features(train_df)\n",
        "testX  = add_fusion_features(test_df)\n",
        "\n",
        "extra_feats = [c for c in trainX.columns if c.endswith(\"_log1p\") or \"over_chelsa\" in c]\n",
        "features = base_feats + extra_feats\n",
        "\n",
        "# Keep only numeric features\n",
        "features = [f for f in features if f in trainX.columns and np.issubdtype(trainX[f].dtype, np.number)]\n",
        "print(\"Using features:\", features)\n"
      ]
    },
    {
      "cell_type": "code",
      "execution_count": null,
      "id": "7172ae6e-9d21-4ed6-99cf-f2f185b1f16f",
      "metadata": {
        "id": "7172ae6e-9d21-4ed6-99cf-f2f185b1f16f",
        "outputId": "435c7e47-39a8-49f6-cbfb-3ab2477a5ffd"
      },
      "outputs": [
        {
          "name": "stdout",
          "output_type": "stream",
          "text": [
            "Fold 1 done.\n",
            "Fold 2 done.\n",
            "Fold 3 done.\n",
            "Fold 4 done.\n",
            "Fold 5 done.\n",
            "CV R^2 (log space): 0.5758910198276384\n"
          ]
        }
      ],
      "source": [
        "# Impute missing on TRAIN ONLY to avoid leakage\n",
        "imp = SimpleImputer(strategy=\"median\")\n",
        "X_full = imp.fit_transform(trainX[features])\n",
        "groups = train_df[id_col].astype(str).values  # clean groups\n",
        "\n",
        "# 5-fold GroupKFold CV in log space (matches leaderboard metric)\n",
        "gkf = GroupKFold(n_splits=5)\n",
        "oof = np.zeros(len(train_df), dtype=float)\n",
        "\n",
        "fold = 1\n",
        "for tr_idx, val_idx in gkf.split(X_full, y_log.values, groups):\n",
        "    X_tr, y_tr = X_full[tr_idx], y_log.values[tr_idx]\n",
        "    X_va, y_va = X_full[val_idx], y_log.values[val_idx]\n",
        "\n",
        "    if ModelLib == \"lightgbm\":\n",
        "        model = lgb.LGBMRegressor(\n",
        "            n_estimators=4000, learning_rate=0.03,\n",
        "            num_leaves=64, min_data_in_leaf=50,\n",
        "            feature_fraction=0.8, bagging_fraction=0.8, bagging_freq=1,\n",
        "            reg_lambda=1.0, random_state=42\n",
        "        )\n",
        "        model.fit(X_tr, y_tr,\n",
        "                  eval_set=[(X_va, y_va)],\n",
        "                  eval_metric=\"rmse\",\n",
        "                  callbacks=[lgb.early_stopping(200, verbose=False)])\n",
        "    elif ModelLib == \"xgboost\":\n",
        "        model = xgb.XGBRegressor(\n",
        "            n_estimators=5000, learning_rate=0.03, max_depth=6,\n",
        "            subsample=0.8, colsample_bytree=0.8,\n",
        "            reg_lambda=1.0, tree_method=\"hist\", n_jobs=-1, random_state=42\n",
        "        )\n",
        "        model.fit(X_tr, y_tr, eval_set=[(X_va, y_va)],\n",
        "                  eval_metric=\"rmse\", verbose=False, early_stopping_rounds=200)\n",
        "    else:\n",
        "        model = GradientBoostingRegressor(\n",
        "            n_estimators=800, max_depth=3, learning_rate=0.05, subsample=0.9, random_state=42\n",
        "        )\n",
        "        model.fit(X_tr, y_tr)  # sklearn GBDT has no early stopping\n",
        "\n",
        "    oof[val_idx] = model.predict(X_va)\n",
        "    print(f\"Fold {fold} done.\"); fold += 1\n",
        "\n",
        "print(\"CV R^2 (log space):\", r2_score(y_log.values, oof))"
      ]
    },
    {
      "cell_type": "code",
      "execution_count": null,
      "id": "203d2ef8-b151-4905-a072-6de8bd1b7f1a",
      "metadata": {
        "id": "203d2ef8-b151-4905-a072-6de8bd1b7f1a",
        "outputId": "b23cab7f-6a9a-4bfd-fe19-0ab6c46a2ea7"
      },
      "outputs": [
        {
          "name": "stdout",
          "output_type": "stream",
          "text": [
            "Wrote: /Users/krishnapatil/Desktop/Hackathon/submission.csv\n",
            "Preview (mm): [ 0.14137902  0.40565809  1.53745015  7.76161111 22.72364008]\n"
          ]
        }
      ],
      "source": [
        "# Refit on all training data with chosen library + params\n",
        "if ModelLib == \"lightgbm\":\n",
        "    final = lgb.LGBMRegressor(\n",
        "        n_estimators= int(1.2 * np.median([2000, 3000, 4000])),  # simple heuristic\n",
        "        learning_rate=0.03, num_leaves=64, min_data_in_leaf=50,\n",
        "        feature_fraction=0.8, bagging_fraction=0.8, bagging_freq=1,\n",
        "        reg_lambda=1.0, random_state=42\n",
        "    )\n",
        "elif ModelLib == \"xgboost\":\n",
        "    final = xgb.XGBRegressor(\n",
        "        n_estimators= int(1.2 * np.median([3000, 4000, 5000])),\n",
        "        learning_rate=0.03, max_depth=6, subsample=0.8,\n",
        "        colsample_bytree=0.8, reg_lambda=1.0, tree_method=\"hist\", n_jobs=-1, random_state=42\n",
        "    )\n",
        "else:\n",
        "    final = GradientBoostingRegressor(\n",
        "        n_estimators=900, max_depth=3, learning_rate=0.05, subsample=0.9, random_state=42\n",
        "    )\n",
        "\n",
        "final.fit(X_full, y_log.values)\n",
        "\n",
        "# Prepare test features with SAME imputer\n",
        "X_test = imp.transform(testX[features])\n",
        "test_pred_log = final.predict(X_test)\n",
        "\n",
        "# Build submission in log space (what Kaggle expects)\n",
        "sub = pd.DataFrame({\n",
        "    \"HACKATHON_ID\": test_df[id_col] if id_col in test_df.columns else test_df.iloc[:,0],\n",
        "    \"PRCP_LOG\": test_pred_log\n",
        "})\n",
        "save_path = os.path.join(os.path.dirname(TEST_PATH), \"submission.csv\")\n",
        "sub.to_csv(save_path, index=False)\n",
        "print(\"Wrote:\", save_path)\n",
        "\n",
        "# (Optional) also keep mm predictions for your own QA\n",
        "pred_mm = np.expm1(test_pred_log).clip(min=0)\n",
        "print(\"Preview (mm):\", pred_mm[:5])\n"
      ]
    },
    {
      "cell_type": "code",
      "execution_count": null,
      "id": "c812d8c5-0670-4ff4-a755-f55f0e70b0a3",
      "metadata": {
        "id": "c812d8c5-0670-4ff4-a755-f55f0e70b0a3"
      },
      "outputs": [],
      "source": [
        "try:\n",
        "    if ModelLib == \"lightgbm\":\n",
        "        imp_vals = final.booster_.feature_importance(importance_type=\"gain\")\n",
        "        fi = pd.DataFrame({\"feature\": features, \"importance\": imp_vals}).sort_values(\"importance\", ascending=False)\n",
        "        display(fi.head(12))\n",
        "    elif ModelLib == \"xgboost\":\n",
        "        imp_vals = final.feature_importances_\n",
        "        fi = pd.DataFrame({\"feature\": features, \"importance\": imp_vals}).sort_values(\"importance\", ascending=False)\n",
        "        display(fi.head(12))\n",
        "except Exception as e:\n",
        "    print(\"Feature importance not available:\", e)\n"
      ]
    },
    {
      "cell_type": "code",
      "execution_count": null,
      "id": "e61589e6-cadd-4af8-b4e3-9e384673be2e",
      "metadata": {
        "id": "e61589e6-cadd-4af8-b4e3-9e384673be2e",
        "outputId": "84f1c2b0-1d90-4ee0-9c78-ec65a0671ac1"
      },
      "outputs": [
        {
          "name": "stdout",
          "output_type": "stream",
          "text": [
            "CV R^2 (log space): 0.5758910198276384\n"
          ]
        }
      ],
      "source": [
        "print(\"CV R^2 (log space):\", r2_score(y_log.values, oof))"
      ]
    },
    {
      "cell_type": "code",
      "execution_count": null,
      "id": "4fb4d347-0e5e-4db0-8bf2-d84fbea8d0bb",
      "metadata": {
        "id": "4fb4d347-0e5e-4db0-8bf2-d84fbea8d0bb",
        "outputId": "1bae3202-abf5-4ac6-9caa-6ee8880bb93c"
      },
      "outputs": [
        {
          "name": "stdout",
          "output_type": "stream",
          "text": [
            "Fold 1 R^2: 0.5789\n",
            "Fold 2 R^2: 0.5783\n",
            "Fold 3 R^2: 0.5797\n",
            "Fold 4 R^2: 0.5771\n",
            "Fold 5 R^2: 0.5761\n",
            "Overall CV R^2: 0.5780255141370938\n"
          ]
        },
        {
          "data": {
            "image/png": "[encoded data removed]",
            "text/plain": [
              "<Figure size 600x400 with 1 Axes>"
            ]
          },
          "metadata": {},
          "output_type": "display_data"
        }
      ],
      "source": [
        "from sklearn.metrics import r2_score\n",
        "import matplotlib.pyplot as plt\n",
        "\n",
        "r2_scores = []\n",
        "\n",
        "fold = 1\n",
        "for tr_idx, val_idx in gkf.split(X_full, y_log.values, groups):\n",
        "    X_tr, y_tr = X_full[tr_idx], y_log.values[tr_idx]\n",
        "    X_va, y_va = X_full[val_idx], y_log.values[val_idx]\n",
        "\n",
        "    # (your model training block here...)\n",
        "\n",
        "    oof[val_idx] = model.predict(X_va)\n",
        "    fold_r2 = r2_score(y_va, oof[val_idx])\n",
        "    r2_scores.append(fold_r2)\n",
        "    print(f\"Fold {fold} R^2: {fold_r2:.4f}\")\n",
        "    fold += 1\n",
        "\n",
        "# Overall R²\n",
        "overall_r2 = r2_score(y_log.values, oof)\n",
        "print(\"Overall CV R^2:\", overall_r2)\n",
        "\n",
        "# Plot R² per fold\n",
        "plt.figure(figsize=(6,4))\n",
        "plt.plot(range(1, len(r2_scores)+1), r2_scores, marker=\"o\")\n",
        "plt.axhline(overall_r2, color=\"red\", linestyle=\"--\", label=f\"Overall {overall_r2:.3f}\")\n",
        "plt.xlabel(\"Fold\")\n",
        "plt.ylabel(\"R² Score\")\n",
        "plt.title(\"R² per Fold (log space)\")\n",
        "plt.legend()\n",
        "plt.tight_layout()\n",
        "plt.show()\n"
      ]
    },
    {
      "cell_type": "markdown",
      "id": "f27f01c5-f2a2-4304-9e23-0f25ffcbcf7f",
      "metadata": {
        "id": "f27f01c5-f2a2-4304-9e23-0f25ffcbcf7f"
      },
      "source": [
        "## Thank you so much!!"
      ]
    }
  ],
  "metadata": {
    "kernelspec": {
      "display_name": "Python (hackathon)",
      "language": "python",
      "name": "hackathon"
    },
    "language_info": {
      "codemirror_mode": {
        "name": "ipython",
        "version": 3
      },
      "file_extension": ".py",
      "mimetype": "text/x-python",
      "name": "python",
      "nbconvert_exporter": "python",
      "pygments_lexer": "ipython3",
      "version": "3.11.9"
    },
    "colab": {
      "provenance": [],
      "include_colab_link": true
    }
  },
  "nbformat": 4,
  "nbformat_minor": 5
}